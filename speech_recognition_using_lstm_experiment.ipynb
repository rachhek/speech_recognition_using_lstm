{
  "nbformat": 4,
  "nbformat_minor": 0,
  "metadata": {
    "kernelspec": {
      "display_name": "Python 3",
      "language": "python",
      "name": "python3"
    },
    "language_info": {
      "codemirror_mode": {
        "name": "ipython",
        "version": 3
      },
      "file_extension": ".py",
      "mimetype": "text/x-python",
      "name": "python",
      "nbconvert_exporter": "python",
      "pygments_lexer": "ipython3",
      "version": "3.6.9"
    },
    "colab": {
      "name": "Copy of Copy of Trail1 (copy).ipynb",
      "provenance": []
    }
  },
  "cells": [
    {
      "cell_type": "code",
      "metadata": {
        "id": "QnlsL8W6cg0z",
        "colab_type": "code",
        "colab": {}
      },
      "source": [
        "from keras.layers import LSTM, Dense, Dropout, Embedding, Masking, Bidirectional,Flatten, SpatialDropout1D,SpatialDropout2D,SpatialDropout3D\n",
        "from python_speech_features import mfcc\n",
        "from python_speech_features import logfbank\n",
        "from keras.models import Sequential, load_model\n",
        "from keras.optimizers import Adam\n",
        "from keras.utils import plot_model\n",
        "from keras.preprocessing.text import Tokenizer\n",
        "from keras.preprocessing.sequence import pad_sequences\n",
        "from sklearn.preprocessing import LabelEncoder,normalize\n",
        "from matplotlib import pyplot\n",
        "from keras.callbacks import EarlyStopping\n",
        "from sklearn.preprocessing import MinMaxScaler\n",
        "import scipy.io.wavfile as wav\n",
        "import numpy as np\n",
        "import keras\n",
        "import csv\n",
        "import os"
      ],
      "execution_count": null,
      "outputs": []
    },
    {
      "cell_type": "code",
      "metadata": {
        "id": "VoxfhLu5tuun",
        "colab_type": "code",
        "colab": {}
      },
      "source": [
        "#Calculating x_test and y_test\n",
        "scaler = MinMaxScaler(feature_range=(0,1))\n",
        "test_labels = []\n",
        "test_data = []\n",
        "\n",
        "#test_labels.txt is a txt file with all labels for the speech samples that is required for the evaluation. We loop through it to calculate the MFCC value for each speech sample and then normalize it \n",
        "with open('test_labels.txt', newline='') as tsvfile:\n",
        "    reader = csv.DictReader(tsvfile)\n",
        "    reader = csv.reader(tsvfile, delimiter=' ')\n",
        "    for row in reader:\n",
        "        wav_file = \"test/\" + row[0]\n",
        "        (rate,sig) = wav.read(wav_file)\n",
        "\n",
        "        #Getting the MFCC value from the .wav files.\n",
        "        mfcc_feat = mfcc(sig,rate)\n",
        "        scaler = scaler.fit(mfcc_feat)\n",
        "\n",
        "        #Normalizing the MFCC values.\n",
        "        normalized = scaler.transform(mfcc_feat)\n",
        "        test_data.append(normalized)\n",
        "        test_labels.append(str(row[1]))\n",
        "    label_encoder_test = LabelEncoder()\n",
        "    vec_test = label_encoder_test.fit_transform(test_labels)\n",
        "\n",
        "    #One hot encoding the labels\n",
        "    one_hot_labels_test = keras.utils.to_categorical(vec_test, num_classes=6)\n",
        "    Y_test = one_hot_labels_test\n",
        "    X_test = np.array(test_data,dtype=np.float32)"
      ],
      "execution_count": null,
      "outputs": []
    },
    {
      "cell_type": "code",
      "metadata": {
        "id": "mPti7sw1tuuq",
        "colab_type": "code",
        "colab": {}
      },
      "source": [
        "#Loading x_train\n",
        "train_labels = []\n",
        "\n",
        "#train_labels.txt is a txt file with all labels for the speech samples that is required for the evaluation. We loop through it to calculate the MFCC value for each speech sample and then normalize it \n",
        "with open('mfcc_partition_100_299/train_labels.txt', newline='') as tsvfile:\n",
        "    reader = csv.DictReader(tsvfile)\n",
        "    reader = csv.reader(tsvfile, delimiter='\\t')\n",
        "    X_train = []\n",
        "    for row in reader:\n",
        "        mfcc_array = np.loadtxt((\"mfcc_partition_100_299/\" + row[0]))\n",
        "        scaler = scaler.fit(mfcc_array)\n",
        "        normalized = scaler.transform(mfcc_array)\n",
        "        X_train.append(np.array(normalized, dtype=np.float32))\n",
        "        train_labels.append(str(row[1]))"
      ],
      "execution_count": null,
      "outputs": []
    },
    {
      "cell_type": "code",
      "metadata": {
        "id": "kCbOsbXttuus",
        "colab_type": "code",
        "colab": {}
      },
      "source": [
        "X_train_array = np.array(X_train)"
      ],
      "execution_count": null,
      "outputs": []
    },
    {
      "cell_type": "code",
      "metadata": {
        "id": "JQmmioYRtuuu",
        "colab_type": "code",
        "colab": {},
        "outputId": "adf64d8d-c785-49f3-b81a-8bbbbd6113a5"
      },
      "source": [
        "#calculate y_train\n",
        "label_encoder = LabelEncoder()\n",
        "vec = label_encoder.fit_transform(train_labels)\n",
        "one_hot_labels_train = keras.utils.to_categorical(vec, num_classes=6)\n",
        "Y_train = one_hot_labels_train\n",
        "X_train_array.shape,Y_train.shape, X_test.shape,Y_test.shape"
      ],
      "execution_count": null,
      "outputs": [
        {
          "output_type": "execute_result",
          "data": {
            "text/plain": [
              "((95811, 299, 13), (95811, 6), (3130, 299, 13), (3130, 6))"
            ]
          },
          "metadata": {
            "tags": []
          },
          "execution_count": 6
        }
      ]
    },
    {
      "cell_type": "code",
      "metadata": {
        "id": "DGOfOkxBtuwt",
        "colab_type": "code",
        "colab": {},
        "outputId": "2f23ba6e-301d-42e2-ec02-49717f48a56c"
      },
      "source": [
        "#Create a LSTM model\n",
        "callbacks = [\n",
        "             EarlyStopping(monitor='val_loss', min_delta=0.01, patience=5,mode = 'min')\n",
        "            ]\n",
        "\n",
        "#attempt with 200 units\n",
        "model_11 = Sequential()\n",
        "model_11.add(LSTM(200,input_shape=(299,13),return_sequences=False))\n",
        "model_11.add(Dense(6,activation='softmax'))\n",
        "model_11.summary()\n",
        "\n",
        "model_11.compile(optimizer=Adam(amsgrad=True, lr=0.001),loss='categorical_crossentropy',metrics=['accuracy'])\n",
        "EPOCHS = 100\n",
        "BATCH_SIZE = 40\n",
        "SAMPLES_PER_EPOCH = len(range(0, len(X_train_array), BATCH_SIZE))\n",
        "\n",
        "#Training the model\n",
        "history = model_11.fit(X_train_array, \n",
        "                    Y_train, \n",
        "                    epochs=EPOCHS,\n",
        "                    callbacks = callbacks,\n",
        "                    batch_size=BATCH_SIZE,\n",
        "                    validation_data=(X_test, Y_test),\n",
        "                    verbose=1,\n",
        "                    shuffle=True\n",
        "                   )"
      ],
      "execution_count": null,
      "outputs": [
        {
          "output_type": "stream",
          "text": [
            "Model: \"sequential_11\"\n",
            "_________________________________________________________________\n",
            "Layer (type)                 Output Shape              Param #   \n",
            "=================================================================\n",
            "lstm_12 (LSTM)               (None, 200)               171200    \n",
            "_________________________________________________________________\n",
            "dense_11 (Dense)             (None, 6)                 1206      \n",
            "=================================================================\n",
            "Total params: 172,406\n",
            "Trainable params: 172,406\n",
            "Non-trainable params: 0\n",
            "_________________________________________________________________\n",
            "Train on 95811 samples, validate on 3130 samples\n",
            "Epoch 1/100\n",
            "95811/95811 [==============================] - 1809s 19ms/step - loss: 1.7655 - accuracy: 0.2300 - val_loss: 1.7851 - val_accuracy: 0.1850\n",
            "Epoch 2/100\n",
            "95811/95811 [==============================] - 1685s 18ms/step - loss: 1.7272 - accuracy: 0.2637 - val_loss: 1.7771 - val_accuracy: 0.2125\n",
            "Epoch 3/100\n",
            "95811/95811 [==============================] - 1675s 17ms/step - loss: 1.6712 - accuracy: 0.3029 - val_loss: 1.7372 - val_accuracy: 0.2629\n",
            "Epoch 4/100\n",
            "95811/95811 [==============================] - 1675s 17ms/step - loss: 1.2963 - accuracy: 0.4990 - val_loss: 1.3257 - val_accuracy: 0.4936\n",
            "Epoch 5/100\n",
            "95811/95811 [==============================] - 1673s 17ms/step - loss: 0.7889 - accuracy: 0.7169 - val_loss: 1.0856 - val_accuracy: 0.5974\n",
            "Epoch 6/100\n",
            "95811/95811 [==============================] - 1675s 17ms/step - loss: 0.5444 - accuracy: 0.8095 - val_loss: 0.8646 - val_accuracy: 0.6859\n",
            "Epoch 7/100\n",
            "95811/95811 [==============================] - 1695s 18ms/step - loss: 0.4079 - accuracy: 0.8586 - val_loss: 0.7423 - val_accuracy: 0.7358\n",
            "Epoch 8/100\n",
            "95811/95811 [==============================] - 1674s 17ms/step - loss: 0.3291 - accuracy: 0.8860 - val_loss: 0.7019 - val_accuracy: 0.7581\n",
            "Epoch 9/100\n",
            "95811/95811 [==============================] - 1673s 17ms/step - loss: 0.2724 - accuracy: 0.9069 - val_loss: 0.6457 - val_accuracy: 0.7837\n",
            "Epoch 10/100\n",
            "95811/95811 [==============================] - 1677s 18ms/step - loss: 0.2317 - accuracy: 0.9205 - val_loss: 0.6235 - val_accuracy: 0.7895\n",
            "Epoch 11/100\n",
            "95811/95811 [==============================] - 1676s 17ms/step - loss: 0.2005 - accuracy: 0.9311 - val_loss: 0.6316 - val_accuracy: 0.7974\n",
            "Epoch 12/100\n",
            "95811/95811 [==============================] - 1678s 18ms/step - loss: 0.1728 - accuracy: 0.9405 - val_loss: 0.5739 - val_accuracy: 0.8131\n",
            "Epoch 13/100\n",
            "95811/95811 [==============================] - 1678s 18ms/step - loss: 0.1522 - accuracy: 0.9470 - val_loss: 0.5761 - val_accuracy: 0.8188\n",
            "Epoch 14/100\n",
            "95811/95811 [==============================] - 1670s 17ms/step - loss: 0.1322 - accuracy: 0.9549 - val_loss: 0.6031 - val_accuracy: 0.8109\n",
            "Epoch 15/100\n",
            "95811/95811 [==============================] - 1671s 17ms/step - loss: 0.1201 - accuracy: 0.9591 - val_loss: 0.6021 - val_accuracy: 0.8236\n",
            "Epoch 16/100\n",
            "95811/95811 [==============================] - 1672s 17ms/step - loss: 0.1071 - accuracy: 0.9627 - val_loss: 0.6557 - val_accuracy: 0.8032\n",
            "Epoch 17/100\n",
            "95811/95811 [==============================] - 1675s 17ms/step - loss: 0.0959 - accuracy: 0.9672 - val_loss: 0.5658 - val_accuracy: 0.8342\n"
          ],
          "name": "stdout"
        }
      ]
    },
    {
      "cell_type": "code",
      "metadata": {
        "id": "yDBJgL0-tuww",
        "colab_type": "code",
        "colab": {},
        "outputId": "4cd09dd7-81f6-47d0-c104-ebc9895248cf"
      },
      "source": [
        "#plotting the loss\n",
        "history = model_11.history\n",
        "#print(history.history['loss'])\n",
        "#print(history.history['val_loss'])\n",
        "pyplot.plot(history.history['loss'])\n",
        "pyplot.plot(history.history[\"val_loss\"])\n",
        "pyplot.title(\"train and validation loss\")\n",
        "pyplot.ylabel(\"value\")\n",
        "pyplot.xlabel(\"epoch\")\n",
        "pyplot.legend(['train','validation'])"
      ],
      "execution_count": null,
      "outputs": [
        {
          "output_type": "execute_result",
          "data": {
            "text/plain": [
              "<matplotlib.legend.Legend at 0x7faf9aef2080>"
            ]
          },
          "metadata": {
            "tags": []
          },
          "execution_count": 36
        },
        {
          "output_type": "display_data",
          "data": {
            "image/png": "[encoded data removed]",
            "text/plain": [
              "<matplotlib.figure.Figure at 0x7faf9b884908>"
            ]
          },
          "metadata": {
            "tags": [],
            "needs_background": "light"
          }
        }
      ]
    },
    {
      "cell_type": "code",
      "metadata": {
        "id": "d3E71A6Gtuw3",
        "colab_type": "code",
        "colab": {},
        "outputId": "ee9af002-4173-4987-8815-a289f7ec2b3f"
      },
      "source": [
        "scores = model_11.evaluate(X_test, Y_test, verbose=1)\n",
        "scores"
      ],
      "execution_count": null,
      "outputs": [
        {
          "output_type": "stream",
          "text": [
            "3130/3130 [==============================] - 23s 7ms/step\n"
          ],
          "name": "stdout"
        },
        {
          "output_type": "execute_result",
          "data": {
            "text/plain": [
              "[0.5657648107019095, 0.8341853022575378]"
            ]
          },
          "metadata": {
            "tags": []
          },
          "execution_count": 37
        }
      ]
    },
    {
      "cell_type": "code",
      "metadata": {
        "id": "PCYeI5w2c3b1",
        "colab_type": "code",
        "colab": {}
      },
      "source": [
        "#The accuracy is seen to be 83%"
      ],
      "execution_count": null,
      "outputs": []
    },
    {
      "cell_type": "code",
      "metadata": {
        "id": "aOi86v06tuw9",
        "colab_type": "code",
        "colab": {},
        "outputId": "b30d25bc-0886-43de-de79-11bc43266c3f"
      },
      "source": [
        "#plotting the loss\n",
        "history = model_11.history\n",
        "#print(history.history['loss'])\n",
        "#print(history.history['val_loss'])\n",
        "pyplot.plot(history.history['accuracy'])\n",
        "pyplot.plot(history.history[\"val_accuracy\"])\n",
        "pyplot.title(\"train and validation accuracy\")\n",
        "pyplot.ylabel(\"accuracy value\")\n",
        "pyplot.xlabel(\"epoch\")\n",
        "pyplot.legend(['train','validation'])"
      ],
      "execution_count": null,
      "outputs": [
        {
          "output_type": "execute_result",
          "data": {
            "text/plain": [
              "<matplotlib.legend.Legend at 0x7faf9aeae6a0>"
            ]
          },
          "metadata": {
            "tags": []
          },
          "execution_count": 38
        },
        {
          "output_type": "display_data",
          "data": {
            "image/png": "[encoded data removed]",
            "text/plain": [
              "<matplotlib.figure.Figure at 0x7faf9af4fb00>"
            ]
          },
          "metadata": {
            "tags": [],
            "needs_background": "light"
          }
        }
      ]
    },
    {
      "cell_type": "code",
      "metadata": {
        "id": "M9anWP1etuw_",
        "colab_type": "code",
        "colab": {}
      },
      "source": [
        "#Saving the model for future use\n",
        "model_11.save(\"90K_3sec_200Units_LSTM_50Epoch_83Acc.model\")"
      ],
      "execution_count": null,
      "outputs": []
    }
  ]
}